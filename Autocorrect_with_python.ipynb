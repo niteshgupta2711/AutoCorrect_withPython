{
  "nbformat": 4,
  "nbformat_minor": 0,
  "metadata": {
    "colab": {
      "name": "Autocorrect_with_python.ipynb",
      "provenance": [],
      "collapsed_sections": []
    },
    "kernelspec": {
      "name": "python3",
      "display_name": "Python 3"
    },
    "language_info": {
      "name": "python"
    }
  },
  "cells": [
    {
      "cell_type": "code",
      "metadata": {
        "colab": {
          "base_uri": "https://localhost:8080/"
        },
        "id": "-ZFmQeD3SNkG",
        "outputId": "b1e441f9-7a4c-4577-aa2d-e558456279ba"
      },
      "source": [
        "from google.colab import drive\n",
        "drive.mount('/content/drive')"
      ],
      "execution_count": null,
      "outputs": [
        {
          "output_type": "stream",
          "text": [
            "Mounted at /content/drive\n"
          ],
          "name": "stdout"
        }
      ]
    },
    {
      "cell_type": "code",
      "metadata": {
        "id": "xuGk9l5TSwJR"
      },
      "source": [
        "import urllib3\n",
        "import re"
      ],
      "execution_count": null,
      "outputs": []
    },
    {
      "cell_type": "code",
      "metadata": {
        "id": "WxtgofXUTu_h"
      },
      "source": [
        "text=urllib.request.urlopen(\"https://www.gutenberg.org/files/2701/old/moby10b.txt\").read().decode('utf-8').lower()"
      ],
      "execution_count": null,
      "outputs": []
    },
    {
      "cell_type": "code",
      "metadata": {
        "id": "ekpDpobtUY3z"
      },
      "source": [
        "word_list=re.findall(\"\\w+\",text)"
      ],
      "execution_count": null,
      "outputs": []
    },
    {
      "cell_type": "code",
      "metadata": {
        "colab": {
          "base_uri": "https://localhost:8080/"
        },
        "id": "zoxmj1vrVj3q",
        "outputId": "619cfc60-34c4-46c9-f770-aaf919b1721e"
      },
      "source": [
        "import pandas as pd\n",
        "import numpy as np\n",
        "#!pip install textdistance\n",
        "import textdistance\n",
        "from collections import Counter"
      ],
      "execution_count": null,
      "outputs": [
        {
          "output_type": "stream",
          "text": [
            "Requirement already satisfied: textdistance in /usr/local/lib/python3.7/dist-packages (4.2.1)\n"
          ],
          "name": "stdout"
        }
      ]
    },
    {
      "cell_type": "code",
      "metadata": {
        "id": "6dTHfju4Wk-3"
      },
      "source": [
        "word_set=set(word_list)"
      ],
      "execution_count": null,
      "outputs": []
    },
    {
      "cell_type": "code",
      "metadata": {
        "id": "XL0qASfEXfR0"
      },
      "source": [
        "word_freq_dict = {}  \n",
        "word_freq_dict = Counter(word_set)"
      ],
      "execution_count": null,
      "outputs": []
    },
    {
      "cell_type": "code",
      "metadata": {
        "id": "1bZkE5ULX9Bo"
      },
      "source": [
        "probs = {}     \n",
        "Total = sum(word_freq_dict.values())    \n",
        "for k in word_freq_dict.keys():\n",
        "    probs[k] = word_freq_dict[k]/Total\n",
        "    "
      ],
      "execution_count": null,
      "outputs": []
    },
    {
      "cell_type": "code",
      "metadata": {
        "id": "5to4bKLsYGP9"
      },
      "source": [
        "def my_autocorrect(input_word):\n",
        "    input_word = input_word.lower()\n",
        "    if input_word in word_set:\n",
        "        return('Your word seems to be correct')\n",
        "    else:\n",
        "        similarities = [1-(textdistance.Jaccard(qval=2).distance(v,input_word)) for v in word_freq_dict.keys()]\n",
        "        df = pd.DataFrame.from_dict(probs, orient='index').reset_index()\n",
        "        df = df.rename(columns={'index':'Word', 0:'Prob'})\n",
        "        df['Similarity'] = similarities\n",
        "        output = df.sort_values(['Similarity', 'Prob'], ascending=False).head()\n",
        "        return(output)"
      ],
      "execution_count": null,
      "outputs": []
    },
    {
      "cell_type": "code",
      "metadata": {
        "colab": {
          "base_uri": "https://localhost:8080/",
          "height": 204
        },
        "id": "6r3uKIubZaIV",
        "outputId": "645ca7a2-447d-48db-e538-b4dc3523c2b7"
      },
      "source": [
        "my_autocorrect(\"communicteu\")"
      ],
      "execution_count": null,
      "outputs": [
        {
          "output_type": "execute_result",
          "data": {
            "text/html": [
              "<div>\n",
              "<style scoped>\n",
              "    .dataframe tbody tr th:only-of-type {\n",
              "        vertical-align: middle;\n",
              "    }\n",
              "\n",
              "    .dataframe tbody tr th {\n",
              "        vertical-align: top;\n",
              "    }\n",
              "\n",
              "    .dataframe thead th {\n",
              "        text-align: right;\n",
              "    }\n",
              "</style>\n",
              "<table border=\"1\" class=\"dataframe\">\n",
              "  <thead>\n",
              "    <tr style=\"text-align: right;\">\n",
              "      <th></th>\n",
              "      <th>Word</th>\n",
              "      <th>Prob</th>\n",
              "      <th>Similarity</th>\n",
              "    </tr>\n",
              "  </thead>\n",
              "  <tbody>\n",
              "    <tr>\n",
              "      <th>256</th>\n",
              "      <td>communicates</td>\n",
              "      <td>0.000058</td>\n",
              "      <td>0.615385</td>\n",
              "    </tr>\n",
              "    <tr>\n",
              "      <th>12123</th>\n",
              "      <td>communicated</td>\n",
              "      <td>0.000058</td>\n",
              "      <td>0.615385</td>\n",
              "    </tr>\n",
              "    <tr>\n",
              "      <th>4850</th>\n",
              "      <td>communing</td>\n",
              "      <td>0.000058</td>\n",
              "      <td>0.500000</td>\n",
              "    </tr>\n",
              "    <tr>\n",
              "      <th>13241</th>\n",
              "      <td>community</td>\n",
              "      <td>0.000058</td>\n",
              "      <td>0.500000</td>\n",
              "    </tr>\n",
              "    <tr>\n",
              "      <th>13423</th>\n",
              "      <td>communion</td>\n",
              "      <td>0.000058</td>\n",
              "      <td>0.500000</td>\n",
              "    </tr>\n",
              "  </tbody>\n",
              "</table>\n",
              "</div>"
            ],
            "text/plain": [
              "               Word      Prob  Similarity\n",
              "256    communicates  0.000058    0.615385\n",
              "12123  communicated  0.000058    0.615385\n",
              "4850      communing  0.000058    0.500000\n",
              "13241     community  0.000058    0.500000\n",
              "13423     communion  0.000058    0.500000"
            ]
          },
          "metadata": {
            "tags": []
          },
          "execution_count": 29
        }
      ]
    },
    {
      "cell_type": "code",
      "metadata": {
        "id": "FwSST_WmZevG"
      },
      "source": [
        ""
      ],
      "execution_count": null,
      "outputs": []
    }
  ]
}